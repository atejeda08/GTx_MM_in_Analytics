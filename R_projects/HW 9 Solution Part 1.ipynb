{
 "cells": [
  {
   "cell_type": "markdown",
   "metadata": {
    "slideshow": {
     "slide_type": "slide"
    }
   },
   "source": [
    "# Armando Tejeda\n",
    "# Homework 9 \n",
    "# 10/24/22"
   ]
  },
  {
   "cell_type": "markdown",
   "metadata": {},
   "source": [
    "# Question 12.1\n",
    "\n",
    "Describe a situation or problem from your job, everyday life, current events, etc., for which a design of experiments approach would be appropriate.\n",
    "\n",
    "*** \n",
    "\n",
    "Solution: \n",
    "\n",
    "DOE would be a great tool to use in processes with high number of variables and randomness such as chemical processes. In reaction kinetics, rate and yield of reaction depends on many factors such as rate of changes in concentrations, temperature, pH and reaction catalyst, etc. That said, if a chemical manufactures wanted to narrow down an \"optimal\" range of operation DOE would allow them to do just that by testing the different values of each variables. "
   ]
  },
  {
   "cell_type": "markdown",
   "metadata": {},
   "source": [
    "# Question 12.2\n",
    "\n",
    "To determine the value of 10 different yes/no features to the market value of a house (large yard, solar roof, etc.), a real estate agent plans to survey 50 potential buyers, showing a fictitious house with different combinations of features.  To reduce the survey size, the agent wants to show just 16 fictitious houses. Use R’s FrF2 function (in the FrF2 package) to find a fractional factorial design for this experiment: what set of features should each of the 16 fictitious houses have?  Note: the output of FrF2 is “1” (include) or  “-1” (don’t include) for each feature.\n",
    "\n",
    "***\n",
    "\n",
    "Solution:"
   ]
  },
  {
   "cell_type": "code",
   "execution_count": 28,
   "metadata": {},
   "outputs": [
    {
     "data": {
      "text/html": [
       "<table class=\"dataframe\">\n",
       "<caption>A tibble: 16 × 11</caption>\n",
       "<thead>\n",
       "\t<tr><th scope=col>House</th><th scope=col>Large.Yard</th><th scope=col>Pool</th><th scope=col>Solar.Roof</th><th scope=col>Long.Driveway</th><th scope=col>Multi.Car.Garage</th><th scope=col>Walk.In.Closet</th><th scope=col>Basement</th><th scope=col>Full.Bar</th><th scope=col>Water.Front</th><th scope=col>HOA</th></tr>\n",
       "\t<tr><th scope=col>&lt;chr&gt;</th><th scope=col>&lt;fct&gt;</th><th scope=col>&lt;fct&gt;</th><th scope=col>&lt;fct&gt;</th><th scope=col>&lt;fct&gt;</th><th scope=col>&lt;fct&gt;</th><th scope=col>&lt;fct&gt;</th><th scope=col>&lt;fct&gt;</th><th scope=col>&lt;fct&gt;</th><th scope=col>&lt;fct&gt;</th><th scope=col>&lt;fct&gt;</th></tr>\n",
       "</thead>\n",
       "<tbody>\n",
       "\t<tr><td>1 </td><td>No </td><td>No </td><td>Yes</td><td>Yes</td><td>No </td><td>Yes</td><td>Yes</td><td>Yes</td><td>No </td><td>No </td></tr>\n",
       "\t<tr><td>2 </td><td>Yes</td><td>No </td><td>No </td><td>No </td><td>Yes</td><td>Yes</td><td>No </td><td>Yes</td><td>No </td><td>Yes</td></tr>\n",
       "\t<tr><td>3 </td><td>Yes</td><td>No </td><td>Yes</td><td>No </td><td>Yes</td><td>No </td><td>Yes</td><td>Yes</td><td>Yes</td><td>No </td></tr>\n",
       "\t<tr><td>4 </td><td>Yes</td><td>Yes</td><td>No </td><td>Yes</td><td>No </td><td>Yes</td><td>Yes</td><td>No </td><td>No </td><td>Yes</td></tr>\n",
       "\t<tr><td>5 </td><td>No </td><td>No </td><td>Yes</td><td>No </td><td>No </td><td>Yes</td><td>Yes</td><td>No </td><td>Yes</td><td>Yes</td></tr>\n",
       "\t<tr><td>6 </td><td>Yes</td><td>No </td><td>Yes</td><td>Yes</td><td>Yes</td><td>No </td><td>Yes</td><td>No </td><td>No </td><td>Yes</td></tr>\n",
       "\t<tr><td>7 </td><td>Yes</td><td>Yes</td><td>Yes</td><td>No </td><td>No </td><td>No </td><td>No </td><td>Yes</td><td>No </td><td>Yes</td></tr>\n",
       "\t<tr><td>8 </td><td>No </td><td>No </td><td>No </td><td>No </td><td>No </td><td>No </td><td>No </td><td>No </td><td>No </td><td>No </td></tr>\n",
       "\t<tr><td>9 </td><td>No </td><td>Yes</td><td>Yes</td><td>No </td><td>Yes</td><td>Yes</td><td>No </td><td>No </td><td>No </td><td>No </td></tr>\n",
       "\t<tr><td>10</td><td>No </td><td>No </td><td>No </td><td>Yes</td><td>No </td><td>No </td><td>No </td><td>Yes</td><td>Yes</td><td>Yes</td></tr>\n",
       "\t<tr><td>11</td><td>No </td><td>Yes</td><td>No </td><td>Yes</td><td>Yes</td><td>No </td><td>Yes</td><td>Yes</td><td>No </td><td>No </td></tr>\n",
       "\t<tr><td>12</td><td>No </td><td>Yes</td><td>Yes</td><td>Yes</td><td>Yes</td><td>Yes</td><td>No </td><td>Yes</td><td>Yes</td><td>Yes</td></tr>\n",
       "\t<tr><td>13</td><td>Yes</td><td>Yes</td><td>Yes</td><td>Yes</td><td>No </td><td>No </td><td>No </td><td>No </td><td>Yes</td><td>No </td></tr>\n",
       "\t<tr><td>14</td><td>No </td><td>Yes</td><td>No </td><td>No </td><td>Yes</td><td>No </td><td>Yes</td><td>No </td><td>Yes</td><td>Yes</td></tr>\n",
       "\t<tr><td>15</td><td>Yes</td><td>Yes</td><td>No </td><td>No </td><td>No </td><td>Yes</td><td>Yes</td><td>Yes</td><td>Yes</td><td>No </td></tr>\n",
       "\t<tr><td>16</td><td>Yes</td><td>No </td><td>No </td><td>Yes</td><td>Yes</td><td>Yes</td><td>No </td><td>No </td><td>Yes</td><td>No </td></tr>\n",
       "</tbody>\n",
       "</table>\n"
      ],
      "text/latex": [
       "A tibble: 16 × 11\n",
       "\\begin{tabular}{lllllllllll}\n",
       " House & Large.Yard & Pool & Solar.Roof & Long.Driveway & Multi.Car.Garage & Walk.In.Closet & Basement & Full.Bar & Water.Front & HOA\\\\\n",
       " <chr> & <fct> & <fct> & <fct> & <fct> & <fct> & <fct> & <fct> & <fct> & <fct> & <fct>\\\\\n",
       "\\hline\n",
       "\t 1  & No  & No  & Yes & Yes & No  & Yes & Yes & Yes & No  & No \\\\\n",
       "\t 2  & Yes & No  & No  & No  & Yes & Yes & No  & Yes & No  & Yes\\\\\n",
       "\t 3  & Yes & No  & Yes & No  & Yes & No  & Yes & Yes & Yes & No \\\\\n",
       "\t 4  & Yes & Yes & No  & Yes & No  & Yes & Yes & No  & No  & Yes\\\\\n",
       "\t 5  & No  & No  & Yes & No  & No  & Yes & Yes & No  & Yes & Yes\\\\\n",
       "\t 6  & Yes & No  & Yes & Yes & Yes & No  & Yes & No  & No  & Yes\\\\\n",
       "\t 7  & Yes & Yes & Yes & No  & No  & No  & No  & Yes & No  & Yes\\\\\n",
       "\t 8  & No  & No  & No  & No  & No  & No  & No  & No  & No  & No \\\\\n",
       "\t 9  & No  & Yes & Yes & No  & Yes & Yes & No  & No  & No  & No \\\\\n",
       "\t 10 & No  & No  & No  & Yes & No  & No  & No  & Yes & Yes & Yes\\\\\n",
       "\t 11 & No  & Yes & No  & Yes & Yes & No  & Yes & Yes & No  & No \\\\\n",
       "\t 12 & No  & Yes & Yes & Yes & Yes & Yes & No  & Yes & Yes & Yes\\\\\n",
       "\t 13 & Yes & Yes & Yes & Yes & No  & No  & No  & No  & Yes & No \\\\\n",
       "\t 14 & No  & Yes & No  & No  & Yes & No  & Yes & No  & Yes & Yes\\\\\n",
       "\t 15 & Yes & Yes & No  & No  & No  & Yes & Yes & Yes & Yes & No \\\\\n",
       "\t 16 & Yes & No  & No  & Yes & Yes & Yes & No  & No  & Yes & No \\\\\n",
       "\\end{tabular}\n"
      ],
      "text/markdown": [
       "\n",
       "A tibble: 16 × 11\n",
       "\n",
       "| House &lt;chr&gt; | Large.Yard &lt;fct&gt; | Pool &lt;fct&gt; | Solar.Roof &lt;fct&gt; | Long.Driveway &lt;fct&gt; | Multi.Car.Garage &lt;fct&gt; | Walk.In.Closet &lt;fct&gt; | Basement &lt;fct&gt; | Full.Bar &lt;fct&gt; | Water.Front &lt;fct&gt; | HOA &lt;fct&gt; |\n",
       "|---|---|---|---|---|---|---|---|---|---|---|\n",
       "| 1  | No  | No  | Yes | Yes | No  | Yes | Yes | Yes | No  | No  |\n",
       "| 2  | Yes | No  | No  | No  | Yes | Yes | No  | Yes | No  | Yes |\n",
       "| 3  | Yes | No  | Yes | No  | Yes | No  | Yes | Yes | Yes | No  |\n",
       "| 4  | Yes | Yes | No  | Yes | No  | Yes | Yes | No  | No  | Yes |\n",
       "| 5  | No  | No  | Yes | No  | No  | Yes | Yes | No  | Yes | Yes |\n",
       "| 6  | Yes | No  | Yes | Yes | Yes | No  | Yes | No  | No  | Yes |\n",
       "| 7  | Yes | Yes | Yes | No  | No  | No  | No  | Yes | No  | Yes |\n",
       "| 8  | No  | No  | No  | No  | No  | No  | No  | No  | No  | No  |\n",
       "| 9  | No  | Yes | Yes | No  | Yes | Yes | No  | No  | No  | No  |\n",
       "| 10 | No  | No  | No  | Yes | No  | No  | No  | Yes | Yes | Yes |\n",
       "| 11 | No  | Yes | No  | Yes | Yes | No  | Yes | Yes | No  | No  |\n",
       "| 12 | No  | Yes | Yes | Yes | Yes | Yes | No  | Yes | Yes | Yes |\n",
       "| 13 | Yes | Yes | Yes | Yes | No  | No  | No  | No  | Yes | No  |\n",
       "| 14 | No  | Yes | No  | No  | Yes | No  | Yes | No  | Yes | Yes |\n",
       "| 15 | Yes | Yes | No  | No  | No  | Yes | Yes | Yes | Yes | No  |\n",
       "| 16 | Yes | No  | No  | Yes | Yes | Yes | No  | No  | Yes | No  |\n",
       "\n"
      ],
      "text/plain": [
       "   House Large.Yard Pool Solar.Roof Long.Driveway Multi.Car.Garage\n",
       "1  1     No         No   Yes        Yes           No              \n",
       "2  2     Yes        No   No         No            Yes             \n",
       "3  3     Yes        No   Yes        No            Yes             \n",
       "4  4     Yes        Yes  No         Yes           No              \n",
       "5  5     No         No   Yes        No            No              \n",
       "6  6     Yes        No   Yes        Yes           Yes             \n",
       "7  7     Yes        Yes  Yes        No            No              \n",
       "8  8     No         No   No         No            No              \n",
       "9  9     No         Yes  Yes        No            Yes             \n",
       "10 10    No         No   No         Yes           No              \n",
       "11 11    No         Yes  No         Yes           Yes             \n",
       "12 12    No         Yes  Yes        Yes           Yes             \n",
       "13 13    Yes        Yes  Yes        Yes           No              \n",
       "14 14    No         Yes  No         No            Yes             \n",
       "15 15    Yes        Yes  No         No            No              \n",
       "16 16    Yes        No   No         Yes           Yes             \n",
       "   Walk.In.Closet Basement Full.Bar Water.Front HOA\n",
       "1  Yes            Yes      Yes      No          No \n",
       "2  Yes            No       Yes      No          Yes\n",
       "3  No             Yes      Yes      Yes         No \n",
       "4  Yes            Yes      No       No          Yes\n",
       "5  Yes            Yes      No       Yes         Yes\n",
       "6  No             Yes      No       No          Yes\n",
       "7  No             No       Yes      No          Yes\n",
       "8  No             No       No       No          No \n",
       "9  Yes            No       No       No          No \n",
       "10 No             No       Yes      Yes         Yes\n",
       "11 No             Yes      Yes      No          No \n",
       "12 Yes            No       Yes      Yes         Yes\n",
       "13 No             No       No       Yes         No \n",
       "14 No             Yes      No       Yes         Yes\n",
       "15 Yes            Yes      Yes      Yes         No \n",
       "16 Yes            No       No       Yes         No "
      ]
     },
     "metadata": {},
     "output_type": "display_data"
    }
   ],
   "source": [
    "library(\"dplyr\")\n",
    "library(\"FrF2\")\n",
    "library(\"tidyverse\")\n",
    "\n",
    "\n",
    "(houses <- FrF2(\n",
    "  16, 10, \n",
    "  factor.names = c(\n",
    "    'Large Yard', 'Pool', 'Solar Roof', 'Long Driveway', 'Multi Car Garage',\n",
    "    'Walk-In Closet', 'Basement', 'Full Bar', 'Water Front', 'HOA'\n",
    "    ),\n",
    "  default.levels = c('Yes', 'No')\n",
    "  ) %>% \n",
    "  as_tibble() %>% \n",
    "  rownames_to_column('House')\n",
    " )"
   ]
  },
  {
   "cell_type": "markdown",
   "metadata": {},
   "source": [
    "# Question 13.1\n",
    "\n",
    "For each of the following distributions, give an example of data that you would expect to follow this distribution (besides the examples already discussed in class).\n",
    "a.\tBinomial   \n",
    "b.\tGeometric   \n",
    "c.\tPoisson   \n",
    "d.\tExponential  \n",
    "e.\tWeibull\n",
    "\n",
    "***\n",
    "\n",
    "Solution: \n",
    "a.\tBinomial - When you play a scratch-off ticket, you either win or you don't. \n",
    "b.\tGeometric - When you roll a dice looking for a 5. The ammount of tries until you roll a 5 would follow geometric distribution.  \n",
    "c.\tPoisson - Number of bankruptcies filed per month would follow Poisson distribution. \n",
    "d.\tExponential - When a dice is rolled and we are looking for a 3, the time inbetween successes would follow exponential distribution. \n",
    "e.\tWeibull - Car brakes would follow a Weibull distribution. As the car continues to drive around, the probability of failure increases over time. \n"
   ]
  },
  {
   "cell_type": "markdown",
   "metadata": {},
   "source": [
    "# Question 13.2\n",
    "\n",
    "In this problem you, can simulate a simplified airport security system at a busy airport. Passengers arrive according to a Poisson distribution with λ1 = 5 per minute (i.e., mean interarrival rate 1 = 0.2 minutes) to the ID/boarding-pass check queue, where there are several servers who each have exponential service time with mean rate 2 = 0.75 minutes. [Hint: model them as one block that has more than one resource.]  After that, the passengers are assigned to the shortest of the several personal-check queues, where they go through the personal scanner (time is uniformly distributed between 0.5 minutes and 1 minute). \n",
    "\n",
    "Use the Arena software (PC users) or Python with SimPy (PC or Mac users) to build a simulation of the system, and then vary the number of ID/boarding-pass checkers and personal-check queues to determine how many are needed to keep average wait times below 15 minutes.  [If you’re using SimPy, or if you have access to a non-student version of Arena, you can use λ1 = 50 to simulate a busier airport.]\n"
   ]
  }
 ],
 "metadata": {
  "kernelspec": {
   "display_name": "Python 3.9.12 ('base')",
   "language": "python",
   "name": "python3"
  },
  "language_info": {
   "codemirror_mode": "r",
   "file_extension": ".r",
   "mimetype": "text/x-r-source",
   "name": "python",
   "pygments_lexer": "r",
   "version": "3.9.12"
  },
  "orig_nbformat": 4,
  "vscode": {
   "interpreter": {
    "hash": "01c8ff5b3041a0266301c9940f89ace61c548988e2c495dda796e2fe9b713713"
   }
  }
 },
 "nbformat": 4,
 "nbformat_minor": 2
}
