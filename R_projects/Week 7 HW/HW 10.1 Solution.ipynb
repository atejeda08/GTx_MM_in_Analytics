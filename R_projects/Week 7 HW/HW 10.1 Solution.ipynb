{
 "cells": [
  {
   "cell_type": "code",
   "execution_count": 10,
   "metadata": {
    "vscode": {
     "languageId": "r"
    }
   },
   "outputs": [],
   "source": [
    "library(DAAG)\n",
    "library(magrittr)\n",
    "library(tidyverse)\n",
    "library(rpart)\n",
    "library(rpart.plot)"
   ]
  },
  {
   "cell_type": "code",
   "execution_count": 11,
   "metadata": {
    "vscode": {
     "languageId": "r"
    }
   },
   "outputs": [
    {
     "data": {
      "text/plain": [
       "n= 47 \n",
       "\n",
       "node), split, n, deviance, yval\n",
       "      * denotes terminal node\n",
       "\n",
       "1) root 47 6880928.0  905.0851  \n",
       "  2) Po1< 7.65 23  779243.5  669.6087  \n",
       "    4) Pop< 22.5 12  243811.0  550.5000 *\n",
       "    5) Pop>=22.5 11  179470.7  799.5455 *\n",
       "  3) Po1>=7.65 24 3604162.0 1130.7500  \n",
       "    6) NW< 7.65 10  557574.9  886.9000 *\n",
       "    7) NW>=7.65 14 2027225.0 1304.9290 *"
      ]
     },
     "metadata": {},
     "output_type": "display_data"
    },
    {
     "data": {
      "image/png": "[encoded data removed]",
      "text/plain": [
       "plot without title"
      ]
     },
     "metadata": {
      "image/png": {
       "height": 420,
       "width": 420
      }
     },
     "output_type": "display_data"
    }
   ],
   "source": [
    "\n",
    "data = read.table(\"C:/Users/ateje/Downloads/hw5_solutions-SP22/uscrime.txt\", stringsAsFactors = FALSE, header = TRUE)\n",
    "\n",
    "#build tree regression on entire dataset\n",
    "reg.T = rpart(Crime ~ ., data = data, method = \"anova\", cp = 0.008)\n",
    "reg.T\n",
    "rpart.plot(reg.T)"
   ]
  },
  {
   "cell_type": "code",
   "execution_count": 12,
   "metadata": {
    "vscode": {
     "languageId": "r"
    }
   },
   "outputs": [
    {
     "name": "stdout",
     "output_type": "stream",
     "text": [
      "Call:\n",
      "rpart(formula = Crime ~ ., data = data, method = \"anova\", cp = 0.008)\n",
      "  n= 47 \n",
      "\n",
      "          CP nsplit rel error   xerror      xstd\n",
      "1 0.36296293      0 1.0000000 1.050226 0.2660073\n",
      "2 0.14814320      1 0.6370371 1.149382 0.2611783\n",
      "3 0.05173165      2 0.4888939 1.122337 0.2520715\n",
      "4 0.00800000      3 0.4371622 1.094707 0.2535185\n",
      "\n",
      "Variable importance\n",
      "   Po1    Po2 Wealth   Ineq   Prob      M     NW    Pop   Time     Ed     LF \n",
      "    17     17     11     11     10     10      9      5      4      4      1 \n",
      "    So \n",
      "     1 \n",
      "\n",
      "Node number 1: 47 observations,    complexity param=0.3629629\n",
      "  mean=905.0851, MSE=146402.7 \n",
      "  left son=2 (23 obs) right son=3 (24 obs)\n",
      "  Primary splits:\n",
      "      Po1    < 7.65      to the left,  improve=0.3629629, (0 missing)\n",
      "      Po2    < 7.2       to the left,  improve=0.3629629, (0 missing)\n",
      "      Prob   < 0.0418485 to the right, improve=0.3217700, (0 missing)\n",
      "      NW     < 7.65      to the left,  improve=0.2356621, (0 missing)\n",
      "      Wealth < 6240      to the left,  improve=0.2002403, (0 missing)\n",
      "  Surrogate splits:\n",
      "      Po2    < 7.2       to the left,  agree=1.000, adj=1.000, (0 split)\n",
      "      Wealth < 5330      to the left,  agree=0.830, adj=0.652, (0 split)\n",
      "      Prob   < 0.043598  to the right, agree=0.809, adj=0.609, (0 split)\n",
      "      M      < 13.25     to the right, agree=0.745, adj=0.478, (0 split)\n",
      "      Ineq   < 17.15     to the right, agree=0.745, adj=0.478, (0 split)\n",
      "\n",
      "Node number 2: 23 observations,    complexity param=0.05173165\n",
      "  mean=669.6087, MSE=33880.15 \n",
      "  left son=4 (12 obs) right son=5 (11 obs)\n",
      "  Primary splits:\n",
      "      Pop < 22.5      to the left,  improve=0.4568043, (0 missing)\n",
      "      M   < 14.5      to the left,  improve=0.3931567, (0 missing)\n",
      "      NW  < 5.4       to the left,  improve=0.3184074, (0 missing)\n",
      "      Po1 < 5.75      to the left,  improve=0.2310098, (0 missing)\n",
      "      U1  < 0.093     to the right, improve=0.2119062, (0 missing)\n",
      "  Surrogate splits:\n",
      "      NW   < 5.4       to the left,  agree=0.826, adj=0.636, (0 split)\n",
      "      M    < 14.5      to the left,  agree=0.783, adj=0.545, (0 split)\n",
      "      Time < 22.30055  to the left,  agree=0.783, adj=0.545, (0 split)\n",
      "      So   < 0.5       to the left,  agree=0.739, adj=0.455, (0 split)\n",
      "      Ed   < 10.85     to the right, agree=0.739, adj=0.455, (0 split)\n",
      "\n",
      "Node number 3: 24 observations,    complexity param=0.1481432\n",
      "  mean=1130.75, MSE=150173.4 \n",
      "  left son=6 (10 obs) right son=7 (14 obs)\n",
      "  Primary splits:\n",
      "      NW   < 7.65      to the left,  improve=0.2828293, (0 missing)\n",
      "      M    < 13.05     to the left,  improve=0.2714159, (0 missing)\n",
      "      Time < 21.9001   to the left,  improve=0.2060170, (0 missing)\n",
      "      M.F  < 99.2      to the left,  improve=0.1703438, (0 missing)\n",
      "      Po1  < 10.75     to the left,  improve=0.1659433, (0 missing)\n",
      "  Surrogate splits:\n",
      "      Ed   < 11.45     to the right, agree=0.750, adj=0.4, (0 split)\n",
      "      Ineq < 16.25     to the left,  agree=0.750, adj=0.4, (0 split)\n",
      "      Time < 21.9001   to the left,  agree=0.750, adj=0.4, (0 split)\n",
      "      Pop  < 30        to the left,  agree=0.708, adj=0.3, (0 split)\n",
      "      LF   < 0.5885    to the right, agree=0.667, adj=0.2, (0 split)\n",
      "\n",
      "Node number 4: 12 observations\n",
      "  mean=550.5, MSE=20317.58 \n",
      "\n",
      "Node number 5: 11 observations\n",
      "  mean=799.5455, MSE=16315.52 \n",
      "\n",
      "Node number 6: 10 observations\n",
      "  mean=886.9, MSE=55757.49 \n",
      "\n",
      "Node number 7: 14 observations\n",
      "  mean=1304.929, MSE=144801.8 \n",
      "\n"
     ]
    }
   ],
   "source": [
    "summary(reg.T)"
   ]
  },
  {
   "cell_type": "code",
   "execution_count": 13,
   "metadata": {
    "vscode": {
     "languageId": "r"
    }
   },
   "outputs": [
    {
     "data": {
      "text/html": [
       "<style>\n",
       ".dl-inline {width: auto; margin:0; padding: 0}\n",
       ".dl-inline>dt, .dl-inline>dd {float: none; width: auto; display: inline-block}\n",
       ".dl-inline>dt::after {content: \":\\0020\"; padding-right: .5ex}\n",
       ".dl-inline>dt:not(:first-of-type) {padding-left: .5ex}\n",
       "</style><dl class=dl-inline><dt>Po1</dt><dd>2497521.6813136</dd><dt>Po2</dt><dd>2497521.6813136</dd><dt>Wealth</dt><dd>1628818.48781322</dd><dt>Ineq</dt><dd>1602211.95963445</dd><dt>Prob</dt><dd>1520230.58862567</dd><dt>M</dt><dd>1388627.84614747</dd><dt>NW</dt><dd>1245883.78569375</dd><dt>Pop</dt><dd>661770.552416714</dd><dt>Time</dt><dd>601906.02365587</dd><dt>Ed</dt><dd>569545.86447513</dd><dt>LF</dt><dd>203872.534285714</dd><dt>So</dt><dd>161800.795903701</dd></dl>\n"
      ],
      "text/latex": [
       "\\begin{description*}\n",
       "\\item[Po1] 2497521.6813136\n",
       "\\item[Po2] 2497521.6813136\n",
       "\\item[Wealth] 1628818.48781322\n",
       "\\item[Ineq] 1602211.95963445\n",
       "\\item[Prob] 1520230.58862567\n",
       "\\item[M] 1388627.84614747\n",
       "\\item[NW] 1245883.78569375\n",
       "\\item[Pop] 661770.552416714\n",
       "\\item[Time] 601906.02365587\n",
       "\\item[Ed] 569545.86447513\n",
       "\\item[LF] 203872.534285714\n",
       "\\item[So] 161800.795903701\n",
       "\\end{description*}\n"
      ],
      "text/markdown": [
       "Po1\n",
       ":   2497521.6813136Po2\n",
       ":   2497521.6813136Wealth\n",
       ":   1628818.48781322Ineq\n",
       ":   1602211.95963445Prob\n",
       ":   1520230.58862567M\n",
       ":   1388627.84614747NW\n",
       ":   1245883.78569375Pop\n",
       ":   661770.552416714Time\n",
       ":   601906.02365587Ed\n",
       ":   569545.86447513LF\n",
       ":   203872.534285714So\n",
       ":   161800.795903701\n",
       "\n"
      ],
      "text/plain": [
       "      Po1       Po2    Wealth      Ineq      Prob         M        NW       Pop \n",
       "2497521.7 2497521.7 1628818.5 1602212.0 1520230.6 1388627.8 1245883.8  661770.6 \n",
       "     Time        Ed        LF        So \n",
       " 601906.0  569545.9  203872.5  161800.8 "
      ]
     },
     "metadata": {},
     "output_type": "display_data"
    }
   ],
   "source": [
    "reg.T$variable.importance  "
   ]
  },
  {
   "cell_type": "code",
   "execution_count": 21,
   "metadata": {
    "vscode": {
     "languageId": "r"
    }
   },
   "outputs": [
    {
     "data": {
      "text/html": [
       "0.562837788062114"
      ],
      "text/latex": [
       "0.562837788062114"
      ],
      "text/markdown": [
       "0.562837788062114"
      ],
      "text/plain": [
       "[1] 0.5628378"
      ]
     },
     "metadata": {},
     "output_type": "display_data"
    }
   ],
   "source": [
    "pred.tree = predict(reg.T, data = data[,1:15])\n",
    "\n",
    "#calculate mean squared error \n",
    "SSE = sum((pred.tree - data[,16])^2)\n",
    "TSS = sum((data[,16] - mean(data[,16]))^2)\n",
    "R2 = 1 - SSE/TSS\n",
    "\n",
    "R2"
   ]
  },
  {
   "cell_type": "markdown",
   "metadata": {},
   "source": [
    "R2 = 0.5628... Does this have something to do with me setting cp = 0.008? "
   ]
  },
  {
   "cell_type": "code",
   "execution_count": null,
   "metadata": {
    "vscode": {
     "languageId": "r"
    }
   },
   "outputs": [],
   "source": []
  },
  {
   "cell_type": "markdown",
   "metadata": {},
   "source": [
    "A prediction of 1388 with an adjusted R-squared of 0.60 is a good prediction that stacks well against last week's cross validation. Overall we \n",
    "see that PCA can generate comparable results when observing less predictors while not risking losing valuable information when using \n",
    "cross validation couples with methods like RFE. "
   ]
  }
 ],
 "metadata": {
  "kernelspec": {
   "display_name": "R",
   "language": "R",
   "name": "ir"
  },
  "language_info": {
   "codemirror_mode": "r",
   "file_extension": ".r",
   "mimetype": "text/x-r-source",
   "name": "R",
   "pygments_lexer": "r",
   "version": "4.2.1"
  },
  "orig_nbformat": 4,
  "vscode": {
   "interpreter": {
    "hash": "9774f6e1c82233648170dbd2480a62df2081315014654ad7e6663a6dc673d0ae"
   }
  }
 },
 "nbformat": 4,
 "nbformat_minor": 2
}
