{
 "cells": [
  {
   "cell_type": "code",
   "execution_count": 10,
   "metadata": {
    "vscode": {
     "languageId": "r"
    }
   },
   "outputs": [],
   "source": [
    "# -------------------- Code for Question 8.2 -----------------------------\n",
    "# Clear environment\n",
    "\n",
    "rm(list = ls())\n",
    "\n",
    "\n",
    "# Setting the random number generator seed so that our results are reproducible\n",
    "# (Your solution doesn't need this, but it's usually good practice to do)\n",
    "\n",
    "\n",
    "set.seed(1)\n"
   ]
  },
  {
   "cell_type": "code",
   "execution_count": 11,
   "metadata": {
    "vscode": {
     "languageId": "r"
    }
   },
   "outputs": [
    {
     "data": {
      "text/html": [
       "<table class=\"dataframe\">\n",
       "<caption>A data.frame: 6 × 16</caption>\n",
       "<thead>\n",
       "\t<tr><th></th><th scope=col>M</th><th scope=col>So</th><th scope=col>Ed</th><th scope=col>Po1</th><th scope=col>Po2</th><th scope=col>LF</th><th scope=col>M.F</th><th scope=col>Pop</th><th scope=col>NW</th><th scope=col>U1</th><th scope=col>U2</th><th scope=col>Wealth</th><th scope=col>Ineq</th><th scope=col>Prob</th><th scope=col>Time</th><th scope=col>Crime</th></tr>\n",
       "\t<tr><th></th><th scope=col>&lt;dbl&gt;</th><th scope=col>&lt;int&gt;</th><th scope=col>&lt;dbl&gt;</th><th scope=col>&lt;dbl&gt;</th><th scope=col>&lt;dbl&gt;</th><th scope=col>&lt;dbl&gt;</th><th scope=col>&lt;dbl&gt;</th><th scope=col>&lt;int&gt;</th><th scope=col>&lt;dbl&gt;</th><th scope=col>&lt;dbl&gt;</th><th scope=col>&lt;dbl&gt;</th><th scope=col>&lt;int&gt;</th><th scope=col>&lt;dbl&gt;</th><th scope=col>&lt;dbl&gt;</th><th scope=col>&lt;dbl&gt;</th><th scope=col>&lt;int&gt;</th></tr>\n",
       "</thead>\n",
       "<tbody>\n",
       "\t<tr><th scope=row>1</th><td>15.1</td><td>1</td><td> 9.1</td><td> 5.8</td><td> 5.6</td><td>0.510</td><td> 95.0</td><td> 33</td><td>30.1</td><td>0.108</td><td>4.1</td><td>3940</td><td>26.1</td><td>0.084602</td><td>26.2011</td><td> 791</td></tr>\n",
       "\t<tr><th scope=row>2</th><td>14.3</td><td>0</td><td>11.3</td><td>10.3</td><td> 9.5</td><td>0.583</td><td>101.2</td><td> 13</td><td>10.2</td><td>0.096</td><td>3.6</td><td>5570</td><td>19.4</td><td>0.029599</td><td>25.2999</td><td>1635</td></tr>\n",
       "\t<tr><th scope=row>3</th><td>14.2</td><td>1</td><td> 8.9</td><td> 4.5</td><td> 4.4</td><td>0.533</td><td> 96.9</td><td> 18</td><td>21.9</td><td>0.094</td><td>3.3</td><td>3180</td><td>25.0</td><td>0.083401</td><td>24.3006</td><td> 578</td></tr>\n",
       "\t<tr><th scope=row>4</th><td>13.6</td><td>0</td><td>12.1</td><td>14.9</td><td>14.1</td><td>0.577</td><td> 99.4</td><td>157</td><td> 8.0</td><td>0.102</td><td>3.9</td><td>6730</td><td>16.7</td><td>0.015801</td><td>29.9012</td><td>1969</td></tr>\n",
       "\t<tr><th scope=row>5</th><td>14.1</td><td>0</td><td>12.1</td><td>10.9</td><td>10.1</td><td>0.591</td><td> 98.5</td><td> 18</td><td> 3.0</td><td>0.091</td><td>2.0</td><td>5780</td><td>17.4</td><td>0.041399</td><td>21.2998</td><td>1234</td></tr>\n",
       "\t<tr><th scope=row>6</th><td>12.1</td><td>0</td><td>11.0</td><td>11.8</td><td>11.5</td><td>0.547</td><td> 96.4</td><td> 25</td><td> 4.4</td><td>0.084</td><td>2.9</td><td>6890</td><td>12.6</td><td>0.034201</td><td>20.9995</td><td> 682</td></tr>\n",
       "</tbody>\n",
       "</table>\n"
      ],
      "text/latex": [
       "A data.frame: 6 × 16\n",
       "\\begin{tabular}{r|llllllllllllllll}\n",
       "  & M & So & Ed & Po1 & Po2 & LF & M.F & Pop & NW & U1 & U2 & Wealth & Ineq & Prob & Time & Crime\\\\\n",
       "  & <dbl> & <int> & <dbl> & <dbl> & <dbl> & <dbl> & <dbl> & <int> & <dbl> & <dbl> & <dbl> & <int> & <dbl> & <dbl> & <dbl> & <int>\\\\\n",
       "\\hline\n",
       "\t1 & 15.1 & 1 &  9.1 &  5.8 &  5.6 & 0.510 &  95.0 &  33 & 30.1 & 0.108 & 4.1 & 3940 & 26.1 & 0.084602 & 26.2011 &  791\\\\\n",
       "\t2 & 14.3 & 0 & 11.3 & 10.3 &  9.5 & 0.583 & 101.2 &  13 & 10.2 & 0.096 & 3.6 & 5570 & 19.4 & 0.029599 & 25.2999 & 1635\\\\\n",
       "\t3 & 14.2 & 1 &  8.9 &  4.5 &  4.4 & 0.533 &  96.9 &  18 & 21.9 & 0.094 & 3.3 & 3180 & 25.0 & 0.083401 & 24.3006 &  578\\\\\n",
       "\t4 & 13.6 & 0 & 12.1 & 14.9 & 14.1 & 0.577 &  99.4 & 157 &  8.0 & 0.102 & 3.9 & 6730 & 16.7 & 0.015801 & 29.9012 & 1969\\\\\n",
       "\t5 & 14.1 & 0 & 12.1 & 10.9 & 10.1 & 0.591 &  98.5 &  18 &  3.0 & 0.091 & 2.0 & 5780 & 17.4 & 0.041399 & 21.2998 & 1234\\\\\n",
       "\t6 & 12.1 & 0 & 11.0 & 11.8 & 11.5 & 0.547 &  96.4 &  25 &  4.4 & 0.084 & 2.9 & 6890 & 12.6 & 0.034201 & 20.9995 &  682\\\\\n",
       "\\end{tabular}\n"
      ],
      "text/markdown": [
       "\n",
       "A data.frame: 6 × 16\n",
       "\n",
       "| <!--/--> | M &lt;dbl&gt; | So &lt;int&gt; | Ed &lt;dbl&gt; | Po1 &lt;dbl&gt; | Po2 &lt;dbl&gt; | LF &lt;dbl&gt; | M.F &lt;dbl&gt; | Pop &lt;int&gt; | NW &lt;dbl&gt; | U1 &lt;dbl&gt; | U2 &lt;dbl&gt; | Wealth &lt;int&gt; | Ineq &lt;dbl&gt; | Prob &lt;dbl&gt; | Time &lt;dbl&gt; | Crime &lt;int&gt; |\n",
       "|---|---|---|---|---|---|---|---|---|---|---|---|---|---|---|---|---|\n",
       "| 1 | 15.1 | 1 |  9.1 |  5.8 |  5.6 | 0.510 |  95.0 |  33 | 30.1 | 0.108 | 4.1 | 3940 | 26.1 | 0.084602 | 26.2011 |  791 |\n",
       "| 2 | 14.3 | 0 | 11.3 | 10.3 |  9.5 | 0.583 | 101.2 |  13 | 10.2 | 0.096 | 3.6 | 5570 | 19.4 | 0.029599 | 25.2999 | 1635 |\n",
       "| 3 | 14.2 | 1 |  8.9 |  4.5 |  4.4 | 0.533 |  96.9 |  18 | 21.9 | 0.094 | 3.3 | 3180 | 25.0 | 0.083401 | 24.3006 |  578 |\n",
       "| 4 | 13.6 | 0 | 12.1 | 14.9 | 14.1 | 0.577 |  99.4 | 157 |  8.0 | 0.102 | 3.9 | 6730 | 16.7 | 0.015801 | 29.9012 | 1969 |\n",
       "| 5 | 14.1 | 0 | 12.1 | 10.9 | 10.1 | 0.591 |  98.5 |  18 |  3.0 | 0.091 | 2.0 | 5780 | 17.4 | 0.041399 | 21.2998 | 1234 |\n",
       "| 6 | 12.1 | 0 | 11.0 | 11.8 | 11.5 | 0.547 |  96.4 |  25 |  4.4 | 0.084 | 2.9 | 6890 | 12.6 | 0.034201 | 20.9995 |  682 |\n",
       "\n"
      ],
      "text/plain": [
       "  M    So Ed   Po1  Po2  LF    M.F   Pop NW   U1    U2  Wealth Ineq Prob    \n",
       "1 15.1 1   9.1  5.8  5.6 0.510  95.0  33 30.1 0.108 4.1 3940   26.1 0.084602\n",
       "2 14.3 0  11.3 10.3  9.5 0.583 101.2  13 10.2 0.096 3.6 5570   19.4 0.029599\n",
       "3 14.2 1   8.9  4.5  4.4 0.533  96.9  18 21.9 0.094 3.3 3180   25.0 0.083401\n",
       "4 13.6 0  12.1 14.9 14.1 0.577  99.4 157  8.0 0.102 3.9 6730   16.7 0.015801\n",
       "5 14.1 0  12.1 10.9 10.1 0.591  98.5  18  3.0 0.091 2.0 5780   17.4 0.041399\n",
       "6 12.1 0  11.0 11.8 11.5 0.547  96.4  25  4.4 0.084 2.9 6890   12.6 0.034201\n",
       "  Time    Crime\n",
       "1 26.2011  791 \n",
       "2 25.2999 1635 \n",
       "3 24.3006  578 \n",
       "4 29.9012 1969 \n",
       "5 21.2998 1234 \n",
       "6 20.9995  682 "
      ]
     },
     "metadata": {},
     "output_type": "display_data"
    },
    {
     "data": {
      "text/plain": [
       "\n",
       "Call:\n",
       "lm(formula = Crime ~ ., data = data)\n",
       "\n",
       "Residuals:\n",
       "    Min      1Q  Median      3Q     Max \n",
       "-395.74  -98.09   -6.69  112.99  512.67 \n",
       "\n",
       "Coefficients:\n",
       "              Estimate Std. Error t value Pr(>|t|)    \n",
       "(Intercept) -5.984e+03  1.628e+03  -3.675 0.000893 ***\n",
       "M            8.783e+01  4.171e+01   2.106 0.043443 *  \n",
       "So          -3.803e+00  1.488e+02  -0.026 0.979765    \n",
       "Ed           1.883e+02  6.209e+01   3.033 0.004861 ** \n",
       "Po1          1.928e+02  1.061e+02   1.817 0.078892 .  \n",
       "Po2         -1.094e+02  1.175e+02  -0.931 0.358830    \n",
       "LF          -6.638e+02  1.470e+03  -0.452 0.654654    \n",
       "M.F          1.741e+01  2.035e+01   0.855 0.398995    \n",
       "Pop         -7.330e-01  1.290e+00  -0.568 0.573845    \n",
       "NW           4.204e+00  6.481e+00   0.649 0.521279    \n",
       "U1          -5.827e+03  4.210e+03  -1.384 0.176238    \n",
       "U2           1.678e+02  8.234e+01   2.038 0.050161 .  \n",
       "Wealth       9.617e-02  1.037e-01   0.928 0.360754    \n",
       "Ineq         7.067e+01  2.272e+01   3.111 0.003983 ** \n",
       "Prob        -4.855e+03  2.272e+03  -2.137 0.040627 *  \n",
       "Time        -3.479e+00  7.165e+00  -0.486 0.630708    \n",
       "---\n",
       "Signif. codes:  0 '***' 0.001 '**' 0.01 '*' 0.05 '.' 0.1 ' ' 1\n",
       "\n",
       "Residual standard error: 209.1 on 31 degrees of freedom\n",
       "Multiple R-squared:  0.8031,\tAdjusted R-squared:  0.7078 \n",
       "F-statistic: 8.429 on 15 and 31 DF,  p-value: 3.539e-07\n"
      ]
     },
     "metadata": {},
     "output_type": "display_data"
    },
    {
     "data": {
      "text/html": [
       "<dl>\n",
       "\t<dt>$names</dt>\n",
       "\t\t<dd><style>\n",
       ".list-inline {list-style: none; margin:0; padding: 0}\n",
       ".list-inline>li {display: inline-block}\n",
       ".list-inline>li:not(:last-child)::after {content: \"\\00b7\"; padding: 0 .5ex}\n",
       "</style>\n",
       "<ol class=list-inline><li>'coefficients'</li><li>'residuals'</li><li>'effects'</li><li>'rank'</li><li>'fitted.values'</li><li>'assign'</li><li>'qr'</li><li>'df.residual'</li><li>'xlevels'</li><li>'call'</li><li>'terms'</li><li>'model'</li></ol>\n",
       "</dd>\n",
       "\t<dt>$class</dt>\n",
       "\t\t<dd>'lm'</dd>\n",
       "</dl>\n"
      ],
      "text/latex": [
       "\\begin{description}\n",
       "\\item[\\$names] \\begin{enumerate*}\n",
       "\\item 'coefficients'\n",
       "\\item 'residuals'\n",
       "\\item 'effects'\n",
       "\\item 'rank'\n",
       "\\item 'fitted.values'\n",
       "\\item 'assign'\n",
       "\\item 'qr'\n",
       "\\item 'df.residual'\n",
       "\\item 'xlevels'\n",
       "\\item 'call'\n",
       "\\item 'terms'\n",
       "\\item 'model'\n",
       "\\end{enumerate*}\n",
       "\n",
       "\\item[\\$class] 'lm'\n",
       "\\end{description}\n"
      ],
      "text/markdown": [
       "$names\n",
       ":   1. 'coefficients'\n",
       "2. 'residuals'\n",
       "3. 'effects'\n",
       "4. 'rank'\n",
       "5. 'fitted.values'\n",
       "6. 'assign'\n",
       "7. 'qr'\n",
       "8. 'df.residual'\n",
       "9. 'xlevels'\n",
       "10. 'call'\n",
       "11. 'terms'\n",
       "12. 'model'\n",
       "\n",
       "\n",
       "\n",
       "$class\n",
       ":   'lm'\n",
       "\n",
       "\n"
      ],
      "text/plain": [
       "$names\n",
       " [1] \"coefficients\"  \"residuals\"     \"effects\"       \"rank\"         \n",
       " [5] \"fitted.values\" \"assign\"        \"qr\"            \"df.residual\"  \n",
       " [9] \"xlevels\"       \"call\"          \"terms\"         \"model\"        \n",
       "\n",
       "$class\n",
       "[1] \"lm\"\n"
      ]
     },
     "metadata": {},
     "output_type": "display_data"
    },
    {
     "data": {
      "image/png": "[encoded data removed]",
      "text/plain": [
       "Plot with title \"Histogram of base_model$fitted.values\""
      ]
     },
     "metadata": {
      "image/png": {
       "height": 420,
       "width": 420
      }
     },
     "output_type": "display_data"
    },
    {
     "data": {
      "image/png": "[encoded data removed]",
      "text/plain": [
       "Plot with title \"Histogram of base_model$residuals\""
      ]
     },
     "metadata": {
      "image/png": {
       "height": 420,
       "width": 420
      }
     },
     "output_type": "display_data"
    },
    {
     "data": {
      "image/png": "[encoded data removed]",
      "text/plain": [
       "Plot with title \"Histogram of data$Crime\""
      ]
     },
     "metadata": {
      "image/png": {
       "height": 420,
       "width": 420
      }
     },
     "output_type": "display_data"
    }
   ],
   "source": [
    "# ---------------------------- Data manipulation -------------------------------------\n",
    "\n",
    "#First, Read in the data\n",
    "#\n",
    "data <- read.table(\"C:/Users/ateje/Downloads/hw5_solutions-SP22/uscrime.txt\", stringsAsFactors = FALSE, header = TRUE)\n",
    "\n",
    "# optional check to make sure the data is read correctly\n",
    "head(data)\n",
    "\n",
    "# Crime is dependent variable, other variables are predictors or independent variables\n",
    "\n",
    "#Attempt #1: Using whhole dataset to build regression model which is then used to predict.\n",
    "#            and we're not bothering to estimate model quality (so test data isn't needed) \n",
    "\n",
    "\n",
    "base_model = lm( Crime ~ ., data = data)\n",
    "\n",
    "#Summary of the base_model\n",
    "\n",
    "summary(base_model)\n",
    "attributes(base_model)\n",
    "hist(base_model$fitted.values)\n",
    "hist(base_model$residuals)\n",
    "hist(data$Crime, xlim = c(100,2100), breaks = seq(50,2000,50), xaxp = c(50, 2000, 50))\n",
    "\n",
    "\n",
    "\n"
   ]
  },
  {
   "cell_type": "markdown",
   "metadata": {},
   "source": [
    "1) It's important that the residuals are equally distributed and have normal variance so we plot them.\n",
    "2) I also plot Crime as a histogram to better understant how good or bad my model prediction is. It looks like the lowest crime rate isjust over 300 in at least 1 county. "
   ]
  },
  {
   "cell_type": "code",
   "execution_count": 12,
   "metadata": {
    "vscode": {
     "languageId": "r"
    }
   },
   "outputs": [
    {
     "data": {
      "text/html": [
       "<strong>1:</strong> 155.434896887448"
      ],
      "text/latex": [
       "\\textbf{1:} 155.434896887448"
      ],
      "text/markdown": [
       "**1:** 155.434896887448"
      ],
      "text/plain": [
       "       1 \n",
       "155.4349 "
      ]
     },
     "metadata": {},
     "output_type": "display_data"
    }
   ],
   "source": [
    "\n",
    "\n",
    "#Create the test datapoint manually using dataframe\n",
    "#This data point will be used to test the model (ln()).\n",
    "\n",
    "test <-data.frame(M = 14.0,So = 0, Ed = 10.0, Po1 = 12.0, Po2 = 15.5,LF = 0.640, M.F = 94.0, Pop = 150, NW = 1.1, U1 = 0.120, U2 = 3.6, Wealth = 3200, Ineq = 20.1, Prob = 0.040,Time = 39.0) # nolint\n",
    "\n",
    "\n",
    "#Predict the crime rate for test data point\n",
    "\n",
    "base_model_prediction <- predict(base_model, test)\n",
    "base_model_prediction\n",
    "\n",
    "## 155.4349 "
   ]
  },
  {
   "cell_type": "markdown",
   "metadata": {},
   "source": [
    "Result: 155.43\n",
    "\n",
    "This estimate is less than half of the crime rate in the next lowest city as shown in the histogram earlier.  \n",
    "\n",
    "This is terrible and a sign of overfitting given how good the initial model results were (Adjusted R-squared = 0.70; normally distributed residualls with + or - 100 in variability)\n",
    "\n",
    "Overfitting in this case is also a direct result of the ratio of data points to factors. This ratio is 3:1 and you would want something around 10:1. Insignificant factors need to be removed, and I will do so using cross-validation and the RFE (Recursive Feature Elimination Method) in the caret package.\n"
   ]
  },
  {
   "cell_type": "code",
   "execution_count": 13,
   "metadata": {
    "vscode": {
     "languageId": "r"
    }
   },
   "outputs": [],
   "source": [
    "#x <- select(data, -Crime)\n",
    "\n",
    "# Target variable\n",
    "#y <- data$Crime\n",
    "\n",
    "# Training: 80%; Test: 20%\n",
    "#set.seed(100122)\n",
    "#training_set <- createDataPartition(y, p = .80, list = FALSE)\n",
    "\n",
    "#x_training_set <- x[ training_set, ]\n",
    "#x_testing_set  <- x[-training_set, ]\n",
    "\n",
    "#y_training_set <- y[ training_set]\n",
    "#y_testing_set  <- y[-training_set]\n",
    "\n"
   ]
  },
  {
   "cell_type": "markdown",
   "metadata": {},
   "source": [
    "gdfgdfgf"
   ]
  },
  {
   "cell_type": "code",
   "execution_count": 14,
   "metadata": {
    "vscode": {
     "languageId": "r"
    }
   },
   "outputs": [
    {
     "data": {
      "text/plain": [
       "\n",
       "Recursive feature selection\n",
       "\n",
       "Outer resampling method: Cross-Validated (10 fold, repeated 25 times) \n",
       "\n",
       "Resampling performance over subset size:\n",
       "\n",
       " Variables  RMSE Rsquared   MAE RMSESD RsquaredSD  MAESD Selected\n",
       "         1 359.8   0.3149 291.4 130.60     0.2863 100.11         \n",
       "         2 343.6   0.3268 274.6 130.04     0.2889 104.74         \n",
       "         3 347.2   0.3168 279.7 129.43     0.2871 106.88         \n",
       "         4 333.2   0.4153 276.2  97.35     0.3176  86.28         \n",
       "         5 323.8   0.4735 264.9  97.00     0.3283  86.96         \n",
       "         6 309.9   0.4995 255.0  95.13     0.3268  85.28         \n",
       "         7 315.7   0.4962 261.1  95.94     0.3227  83.27         \n",
       "         8 273.8   0.5706 225.9  88.19     0.3026  75.86         \n",
       "         9 240.9   0.6298 195.5  99.00     0.2915  82.16         \n",
       "        10 233.5   0.6500 190.3  85.82     0.2674  69.25        *\n",
       "        11 240.7   0.6213 195.0  92.33     0.2815  72.39         \n",
       "        12 253.3   0.5891 204.7  92.36     0.2962  74.54         \n",
       "        13 255.1   0.5869 206.0  93.47     0.2944  75.77         \n",
       "        14 263.4   0.5743 212.0  95.64     0.2984  78.79         \n",
       "        15 267.8   0.5699 217.4  94.60     0.2950  81.02         \n",
       "\n",
       "The top 5 variables (out of 10):\n",
       "   U1, Prob, LF, Po1, Ed\n"
      ]
     },
     "metadata": {},
     "output_type": "display_data"
    },
    {
     "data": {
      "text/html": [
       "<style>\n",
       ".list-inline {list-style: none; margin:0; padding: 0}\n",
       ".list-inline>li {display: inline-block}\n",
       ".list-inline>li:not(:last-child)::after {content: \"\\00b7\"; padding: 0 .5ex}\n",
       "</style>\n",
       "<ol class=list-inline><li>'U1'</li><li>'Prob'</li><li>'LF'</li><li>'Po1'</li><li>'Ed'</li><li>'U2'</li><li>'Po2'</li><li>'M'</li><li>'Ineq'</li><li>'So'</li></ol>\n"
      ],
      "text/latex": [
       "\\begin{enumerate*}\n",
       "\\item 'U1'\n",
       "\\item 'Prob'\n",
       "\\item 'LF'\n",
       "\\item 'Po1'\n",
       "\\item 'Ed'\n",
       "\\item 'U2'\n",
       "\\item 'Po2'\n",
       "\\item 'M'\n",
       "\\item 'Ineq'\n",
       "\\item 'So'\n",
       "\\end{enumerate*}\n"
      ],
      "text/markdown": [
       "1. 'U1'\n",
       "2. 'Prob'\n",
       "3. 'LF'\n",
       "4. 'Po1'\n",
       "5. 'Ed'\n",
       "6. 'U2'\n",
       "7. 'Po2'\n",
       "8. 'M'\n",
       "9. 'Ineq'\n",
       "10. 'So'\n",
       "\n",
       "\n"
      ],
      "text/plain": [
       " [1] \"U1\"   \"Prob\" \"LF\"   \"Po1\"  \"Ed\"   \"U2\"   \"Po2\"  \"M\"    \"Ineq\" \"So\"  "
      ]
     },
     "metadata": {},
     "output_type": "display_data"
    },
    {
     "data": {
      "image/png": "[encoded data removed]",
      "text/plain": [
       "plot without title"
      ]
     },
     "metadata": {
      "image/png": {
       "height": 420,
       "width": 420
      }
     },
     "output_type": "display_data"
    },
    {
     "data": {
      "image/png": "[encoded data removed]",
      "text/plain": [
       "plot without title"
      ]
     },
     "metadata": {
      "image/png": {
       "height": 420,
       "width": 420
      }
     },
     "output_type": "display_data"
    }
   ],
   "source": [
    "set.seed(1000)\n",
    "\n",
    "library(caret)\n",
    "\n",
    "control <- rfeControl(functions = lmFuncs,\n",
    "                     method = \"repeatedcv\",\n",
    "                     number = 10, #number of folds\n",
    "                     repeats = 25, #repeats 25 times\n",
    "                     verbose = FALSE)\n",
    "\n",
    "#lm_rfe = rfe(x = x_training_set, \n",
    "#             y = y_training_set,\n",
    "#             sizes = c(1:15), #this tells the function to try all possible solitions\n",
    "                             #(i.e, only 1 feature, only 2 features,..., only 3 features, etc) \n",
    "#             rfeControl = control)\n",
    "\n",
    "\n",
    "lm_rfe <- rfe(data[,-16], data[[16]],\n",
    "                 sizes = c(1:15),\n",
    "                 rfeControl = control)\n",
    "#Print the results\n",
    "lm_rfe  \n",
    "\n",
    "# Post prediction\n",
    "#postResample(predict(lm_rfe, x_testing_set), y_testing_set)\n",
    "\n",
    "#Print the selected critical predictors\n",
    "predictors(lm_rfe)\n",
    "\n",
    "\n",
    "# Print the results visually\n",
    "ggplot(data = lm_rfe, metric = \"RMSE\") + theme_bw()\n",
    "ggplot(data = lm_rfe, metric = \"Rsquared  \") + theme_bw()"
   ]
  },
  {
   "cell_type": "code",
   "execution_count": 15,
   "metadata": {
    "vscode": {
     "languageId": "r"
    }
   },
   "outputs": [
    {
     "data": {
      "text/html": [
       "<strong>1:</strong> 870.683361434228"
      ],
      "text/latex": [
       "\\textbf{1:} 870.683361434228"
      ],
      "text/markdown": [
       "**1:** 870.683361434228"
      ],
      "text/plain": [
       "       1 \n",
       "870.6834 "
      ]
     },
     "metadata": {},
     "output_type": "display_data"
    }
   ],
   "source": [
    "#postResample(predict(lm_rfe, x_testing_set), y_testing_set)\n",
    "\n",
    "predict(lm_rfe,test)"
   ]
  },
  {
   "cell_type": "markdown",
   "metadata": {},
   "source": [
    "What these results are telling me is that this is not a good model compared to the one here (https://towardsdatascience.com/effective-feature-selection-recursive-feature-elimination-using-r-148ff998e4f7#:~:text=Recursive%20Feature%20Elimination%C2%B2%2C%20or%20shortly,the%20optimal%20combination%20of%20features) I am using as reference. Maybe has something to do with the ration of data points to features???"
   ]
  },
  {
   "cell_type": "code",
   "execution_count": null,
   "metadata": {
    "vscode": {
     "languageId": "r"
    }
   },
   "outputs": [],
   "source": [
    "intercept = lm_model1$coefficients[1]\n",
    "\n",
    "beta_vector = lm_model1$coefficients[2:(principal_components+1)]\n",
    "beta_vector\n",
    "\n",
    "data_pca$rotation[,1:principal_components]\n",
    "alpha_vector = data_pca$rotation[,1:principal_components] %*% beta_vector\n",
    "alpha_vector\n",
    "\n",
    "#mean and standard deviations of original raw data. \n",
    "mean = sapply(data[,1:15], mean)\n",
    "sdev = sapply(data[,1:15], sd)\n",
    "\n",
    "original_alpha = alpha_vector/ sdev\n",
    "original_beta = intercept - sum(alpha_vector*mean/sdev) #Or original intercept \n",
    "\n",
    "original_alpha\n",
    "original_beta"
   ]
  },
  {
   "cell_type": "code",
   "execution_count": null,
   "metadata": {
    "vscode": {
     "languageId": "r"
    }
   },
   "outputs": [],
   "source": [
    "estimated_values <- as.matrix(data[,1:15]) %*% original_alpha + original_beta\n",
    "\n",
    "SSE = sum((estimated_values - data[,16])^2)\n",
    "SStot = sum((data[,16] - mean(data[,16]))^2)\n",
    "R2 = 1 - SSE/SStot\n",
    "\n",
    "R2_adjust = R2 - (1-R2)*principal_components/(nrow(data)-principal_components-1)\n",
    "\n",
    "R2\n",
    "R2_adjust "
   ]
  }
 ],
 "metadata": {
  "kernelspec": {
   "display_name": "R",
   "language": "R",
   "name": "ir"
  },
  "language_info": {
   "codemirror_mode": "r",
   "file_extension": ".r",
   "mimetype": "text/x-r-source",
   "name": "R",
   "pygments_lexer": "r",
   "version": "4.2.1"
  },
  "orig_nbformat": 4,
  "vscode": {
   "interpreter": {
    "hash": "9774f6e1c82233648170dbd2480a62df2081315014654ad7e6663a6dc673d0ae"
   }
  }
 },
 "nbformat": 4,
 "nbformat_minor": 2
}
