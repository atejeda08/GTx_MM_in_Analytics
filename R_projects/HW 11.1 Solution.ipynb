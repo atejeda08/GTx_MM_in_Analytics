{
 "cells": [
  {
   "cell_type": "markdown",
   "metadata": {},
   "source": [
    "Armando Tejeda\n",
    "Homework 8\n",
    "10/17/22"
   ]
  },
  {
   "cell_type": "markdown",
   "metadata": {},
   "source": [
    "Question 11.1\n",
    "\n",
    "Using the crime data set uscrime.txt from Questions 8.2, 9.1, and 10.1, build a regression model using:\n",
    "1.\tStepwise regression\n",
    "2.\tLasso\n",
    "3.\tElastic net\n",
    "For Parts 2 and 3, remember to scale the data first – otherwise, the regression coefficients will be on different scales and the constraint won’t have the desired effect.\n",
    "\n",
    "For Parts 2 and 3, use the glmnet function in R.  \n",
    "\n",
    "Notes on R:\n",
    "•\tFor the elastic net model, what we called λ in the videos, glmnet calls “alpha”; you can get a range of results by varying alpha from 1 (lasso) to 0 (ridge regression) [and, of course, other values of alpha in between].\n",
    "•\tIn a function call like glmnet(x,y,family=”mgaussian”,alpha=1) the predictors x need to be in R’s matrix format, rather than data frame format.  You can convert a data frame to a matrix using as.matrix – for example, x <- as.matrix(data[,1:n-1])\n",
    "•\tRather than specifying a value of T, glmnet returns models for a variety of values of T. \n",
    "\n"
   ]
  },
  {
   "cell_type": "code",
   "execution_count": 47,
   "metadata": {
    "vscode": {
     "languageId": "r"
    }
   },
   "outputs": [],
   "source": [
    "rm(list = ls())\n",
    "set.seed(1)\n",
    "\n",
    "setwd(\"C:/Users/ateje/OneDrive/Desktop/VS Code Projects/GTx_MM_in_Analytics/R_projects\")\n",
    "\n",
    "usCrime_data = read.table(\"uscrime.txt\", header = TRUE)"
   ]
  },
  {
   "cell_type": "markdown",
   "metadata": {},
   "source": [
    "Running a quick linear model to get a baseline model for this dataset as we have done before. "
   ]
  },
  {
   "cell_type": "code",
   "execution_count": 48,
   "metadata": {
    "vscode": {
     "languageId": "r"
    }
   },
   "outputs": [
    {
     "data": {
      "text/plain": [
       "\n",
       "Call:\n",
       "lm(formula = Crime ~ ., data = usCrime_data)\n",
       "\n",
       "Residuals:\n",
       "    Min      1Q  Median      3Q     Max \n",
       "-395.74  -98.09   -6.69  112.99  512.67 \n",
       "\n",
       "Coefficients:\n",
       "              Estimate Std. Error t value Pr(>|t|)    \n",
       "(Intercept) -5.984e+03  1.628e+03  -3.675 0.000893 ***\n",
       "M            8.783e+01  4.171e+01   2.106 0.043443 *  \n",
       "So          -3.803e+00  1.488e+02  -0.026 0.979765    \n",
       "Ed           1.883e+02  6.209e+01   3.033 0.004861 ** \n",
       "Po1          1.928e+02  1.061e+02   1.817 0.078892 .  \n",
       "Po2         -1.094e+02  1.175e+02  -0.931 0.358830    \n",
       "LF          -6.638e+02  1.470e+03  -0.452 0.654654    \n",
       "M.F          1.741e+01  2.035e+01   0.855 0.398995    \n",
       "Pop         -7.330e-01  1.290e+00  -0.568 0.573845    \n",
       "NW           4.204e+00  6.481e+00   0.649 0.521279    \n",
       "U1          -5.827e+03  4.210e+03  -1.384 0.176238    \n",
       "U2           1.678e+02  8.234e+01   2.038 0.050161 .  \n",
       "Wealth       9.617e-02  1.037e-01   0.928 0.360754    \n",
       "Ineq         7.067e+01  2.272e+01   3.111 0.003983 ** \n",
       "Prob        -4.855e+03  2.272e+03  -2.137 0.040627 *  \n",
       "Time        -3.479e+00  7.165e+00  -0.486 0.630708    \n",
       "---\n",
       "Signif. codes:  0 '***' 0.001 '**' 0.01 '*' 0.05 '.' 0.1 ' ' 1\n",
       "\n",
       "Residual standard error: 209.1 on 31 degrees of freedom\n",
       "Multiple R-squared:  0.8031,\tAdjusted R-squared:  0.7078 \n",
       "F-statistic: 8.429 on 15 and 31 DF,  p-value: 3.539e-07\n"
      ]
     },
     "metadata": {},
     "output_type": "display_data"
    }
   ],
   "source": [
    "usCrime_lm = lm(Crime~., data = usCrime_data)\n",
    "summary(usCrime_lm,)"
   ]
  },
  {
   "cell_type": "markdown",
   "metadata": {},
   "source": [
    "Baseline linear regression with R2 and adjusted R2 of 0.8031 and 0.7078 respectively. This is very good but from previous homeworks we have seen that this due to overfitting, due to the small ratio of data points to predictors. "
   ]
  },
  {
   "cell_type": "code",
   "execution_count": 49,
   "metadata": {
    "vscode": {
     "languageId": "r"
    }
   },
   "outputs": [
    {
     "data": {
      "text/plain": [
       "\n",
       "Call:\n",
       "lm(formula = .outcome ~ M + Ed + Po1 + M.F + U1 + U2 + Ineq + \n",
       "    Prob, data = dat)\n",
       "\n",
       "Residuals:\n",
       "    Min      1Q  Median      3Q     Max \n",
       "-444.70 -111.07    3.03  122.15  483.30 \n",
       "\n",
       "Coefficients:\n",
       "            Estimate Std. Error t value Pr(>|t|)    \n",
       "(Intercept) -6426.10    1194.61  -5.379 4.04e-06 ***\n",
       "M              93.32      33.50   2.786  0.00828 ** \n",
       "Ed            180.12      52.75   3.414  0.00153 ** \n",
       "Po1           102.65      15.52   6.613 8.26e-08 ***\n",
       "M.F            22.34      13.60   1.642  0.10874    \n",
       "U1          -6086.63    3339.27  -1.823  0.07622 .  \n",
       "U2            187.35      72.48   2.585  0.01371 *  \n",
       "Ineq           61.33      13.96   4.394 8.63e-05 ***\n",
       "Prob        -3796.03    1490.65  -2.547  0.01505 *  \n",
       "---\n",
       "Signif. codes:  0 '***' 0.001 '**' 0.01 '*' 0.05 '.' 0.1 ' ' 1\n",
       "\n",
       "Residual standard error: 195.5 on 38 degrees of freedom\n",
       "Multiple R-squared:  0.7888,\tAdjusted R-squared:  0.7444 \n",
       "F-statistic: 17.74 on 8 and 38 DF,  p-value: 1.159e-10\n"
      ]
     },
     "metadata": {},
     "output_type": "display_data"
    }
   ],
   "source": [
    "library(caret)\n",
    "\n",
    "# Doing stepwise regression. \n",
    "\n",
    "stepwise_usCrime = train(Crime ~., data = usCrime_data,\n",
    "                     method = \"lmStepAIC\",\n",
    "                     trControl = trainControl(),\n",
    "                     trace = FALSE\n",
    ")\n",
    "\n",
    "summary(stepwise_usCrime)\n"
   ]
  },
  {
   "cell_type": "markdown",
   "metadata": {},
   "source": [
    "Stepwise regression gives R2 = 0.788 and adjusted R2 = 0.744. A little worse than a simple lm regression but likely a better model with less overfitting. \n",
    "\n",
    "LASSO Regression next:  "
   ]
  },
  {
   "cell_type": "code",
   "execution_count": 50,
   "metadata": {
    "vscode": {
     "languageId": "r"
    }
   },
   "outputs": [],
   "source": [
    "# Scale the data, except for col2 and col16\n",
    "\n",
    "scaled_usCrime_data = as.data.frame(scale(usCrime_data[,c(1,3:15)]))\n",
    "scaled_usCrime_data = cbind(usCrime_data[,2],scaled_usCrime_data,usCrime_data[,16]) \n",
    "colnames(scaled_usCrime_data)[1] <- \"So\"\n",
    "colnames(scaled_usCrime_data)[16] <- \"Crime\""
   ]
  },
  {
   "cell_type": "code",
   "execution_count": 51,
   "metadata": {
    "vscode": {
     "languageId": "r"
    }
   },
   "outputs": [
    {
     "data": {
      "text/html": [
       "11.12694331514"
      ],
      "text/latex": [
       "11.12694331514"
      ],
      "text/markdown": [
       "11.12694331514"
      ],
      "text/plain": [
       "[1] 11.12694"
      ]
     },
     "metadata": {},
     "output_type": "display_data"
    }
   ],
   "source": [
    "library(glmnet)\n",
    "\n",
    "# Lasso Regression.\n",
    "\n",
    "LASSO_usCrime = cv.glmnet(x=as.matrix(scaled_usCrime_data[,-16]), y=as.matrix(scaled_usCrime_data$Crime), \n",
    "                    alpha=1, nfolds = 5, type.measure=\"mse\", family=\"gaussian\")\n",
    "\n",
    "\n",
    "LASSO_usCrime$lambda.min "
   ]
  },
  {
   "cell_type": "code",
   "execution_count": 52,
   "metadata": {
    "vscode": {
     "languageId": "r"
    }
   },
   "outputs": [
    {
     "data": {
      "text/plain": [
       "16 x 1 sparse Matrix of class \"dgCMatrix\"\n",
       "                    s1\n",
       "(Intercept) 889.059998\n",
       "So           47.073756\n",
       "M            85.028207\n",
       "Ed          124.299584\n",
       "Po1         308.896175\n",
       "Po2           .       \n",
       "LF            1.112481\n",
       "M.F          52.034368\n",
       "Pop           .       \n",
       "NW            4.437239\n",
       "U1          -22.252726\n",
       "U2           55.983894\n",
       "Wealth        .       \n",
       "Ineq        180.589656\n",
       "Prob        -81.811935\n",
       "Time          .       "
      ]
     },
     "metadata": {},
     "output_type": "display_data"
    }
   ],
   "source": [
    "coefficients(LASSO_usCrime, LASSO_usCrime$lambda.min)"
   ]
  },
  {
   "cell_type": "code",
   "execution_count": 53,
   "metadata": {
    "vscode": {
     "languageId": "r"
    }
   },
   "outputs": [
    {
     "data": {
      "text/plain": [
       "\n",
       "Call:\n",
       "lm(formula = Crime ~ M + So + Ed + Po1 + M.F + Pop + NW + U1 + \n",
       "    U2 + Wealth + Ineq + Prob, data = scaled_usCrime_data)\n",
       "\n",
       "Residuals:\n",
       "    Min      1Q  Median      3Q     Max \n",
       "-434.18 -107.01   18.55  115.88  470.32 \n",
       "\n",
       "Coefficients:\n",
       "            Estimate Std. Error t value Pr(>|t|)    \n",
       "(Intercept)   897.29      51.91  17.286  < 2e-16 ***\n",
       "M             112.71      49.35   2.284  0.02876 *  \n",
       "So             22.89     125.35   0.183  0.85621    \n",
       "Ed            195.70      62.94   3.109  0.00378 ** \n",
       "Po1           293.18      64.99   4.511 7.32e-05 ***\n",
       "M.F            48.92      48.12   1.017  0.31656    \n",
       "Pop           -33.25      45.63  -0.729  0.47113    \n",
       "NW             19.16      57.71   0.332  0.74195    \n",
       "U1            -89.76      65.68  -1.367  0.18069    \n",
       "U2            140.78      66.77   2.108  0.04245 *  \n",
       "Wealth         83.30      95.53   0.872  0.38932    \n",
       "Ineq          285.77      85.19   3.355  0.00196 ** \n",
       "Prob          -92.75      41.12  -2.255  0.03065 *  \n",
       "---\n",
       "Signif. codes:  0 '***' 0.001 '**' 0.01 '*' 0.05 '.' 0.1 ' ' 1\n",
       "\n",
       "Residual standard error: 202.6 on 34 degrees of freedom\n",
       "Multiple R-squared:  0.7971,\tAdjusted R-squared:  0.7255 \n",
       "F-statistic: 11.13 on 12 and 34 DF,  p-value: 1.52e-08\n"
      ]
     },
     "metadata": {},
     "output_type": "display_data"
    }
   ],
   "source": [
    "# Now that we have the coefficients for the best lambda value, we run a linear model. \n",
    "\n",
    "LASSO_usCrime_lm = lm(Crime ~M+So+Ed+Po1+M.F+Pop+NW+U1+U2+Wealth+Ineq+Prob, \n",
    "                    data = scaled_usCrime_data)\n",
    "                    \n",
    "summary(LASSO_usCrime_lm)"
   ]
  },
  {
   "cell_type": "code",
   "execution_count": 54,
   "metadata": {
    "vscode": {
     "languageId": "r"
    }
   },
   "outputs": [
    {
     "data": {
      "text/plain": [
       "\n",
       "Call:\n",
       "lm(formula = Crime ~ M + Ed + Po1 + U2 + Ineq + Prob, data = scaled_usCrime_data)\n",
       "\n",
       "Residuals:\n",
       "    Min      1Q  Median      3Q     Max \n",
       "-470.68  -78.41  -19.68  133.12  556.23 \n",
       "\n",
       "Coefficients:\n",
       "            Estimate Std. Error t value Pr(>|t|)    \n",
       "(Intercept)   905.09      29.27  30.918  < 2e-16 ***\n",
       "M             131.98      41.85   3.154  0.00305 ** \n",
       "Ed            219.79      50.07   4.390 8.07e-05 ***\n",
       "Po1           341.84      40.87   8.363 2.56e-10 ***\n",
       "U2             75.47      34.55   2.185  0.03483 *  \n",
       "Ineq          269.91      55.60   4.855 1.88e-05 ***\n",
       "Prob          -86.44      34.74  -2.488  0.01711 *  \n",
       "---\n",
       "Signif. codes:  0 '***' 0.001 '**' 0.01 '*' 0.05 '.' 0.1 ' ' 1\n",
       "\n",
       "Residual standard error: 200.7 on 40 degrees of freedom\n",
       "Multiple R-squared:  0.7659,\tAdjusted R-squared:  0.7307 \n",
       "F-statistic: 21.81 on 6 and 40 DF,  p-value: 3.418e-11\n"
      ]
     },
     "metadata": {},
     "output_type": "display_data"
    }
   ],
   "source": [
    "# Further remove factors with p-values over 0.05 and run lm again. \n",
    "\n",
    "LASSO_usCrime_lm_final = lm(Crime ~M+ Ed+ Po1+ U2+ Ineq+Prob, \n",
    "                    data = scaled_usCrime_data)\n",
    "                    \n",
    "summary(LASSO_usCrime_lm_final)\n"
   ]
  },
  {
   "cell_type": "markdown",
   "metadata": {},
   "source": [
    "Final results for Lasso regression are seemingly very good. Down to 6 factors with an R2 = 0.7659 and Adjusted_R2 = 0.7307. \n",
    "\n",
    "Elastic Net next: "
   ]
  },
  {
   "cell_type": "code",
   "execution_count": 55,
   "metadata": {
    "vscode": {
     "languageId": "r"
    }
   },
   "outputs": [
    {
     "data": {
      "text/plain": [
       "\n",
       "Call:\n",
       "lm(formula = Crime ~ M + So + Ed + Po1 + Po2 + LF + M.F + NW + \n",
       "    U1 + U2 + Wealth + Ineq + Prob + Time, data = scaled_usCrime_data)\n",
       "\n",
       "Residuals:\n",
       "    Min      1Q  Median      3Q     Max \n",
       "-380.91 -101.89  -14.77  110.87  505.40 \n",
       "\n",
       "Coefficients:\n",
       "            Estimate Std. Error t value Pr(>|t|)    \n",
       "(Intercept)  906.483     58.484  15.500  < 2e-16 ***\n",
       "M            112.837     51.691   2.183  0.03649 *  \n",
       "So            -4.105    147.172  -0.028  0.97792    \n",
       "Ed           211.246     68.713   3.074  0.00429 ** \n",
       "Po1          563.337    311.541   1.808  0.07998 .  \n",
       "Po2         -313.824    324.701  -0.966  0.34104    \n",
       "LF           -31.702     58.147  -0.545  0.58939    \n",
       "M.F           64.479     54.722   1.178  0.24737    \n",
       "NW            44.572     65.892   0.676  0.50362    \n",
       "U1          -112.728     73.902  -1.525  0.13699    \n",
       "U2           143.186     68.749   2.083  0.04535 *  \n",
       "Wealth        87.836     98.588   0.891  0.37961    \n",
       "Ineq         269.086     86.824   3.099  0.00403 ** \n",
       "Prob        -110.457     51.117  -2.161  0.03830 *  \n",
       "Time         -31.582     48.772  -0.648  0.52189    \n",
       "---\n",
       "Signif. codes:  0 '***' 0.001 '**' 0.01 '*' 0.05 '.' 0.1 ' ' 1\n",
       "\n",
       "Residual standard error: 206.8 on 32 degrees of freedom\n",
       "Multiple R-squared:  0.801,\tAdjusted R-squared:  0.714 \n",
       "F-statistic: 9.202 on 14 and 32 DF,  p-value: 1.301e-07\n"
      ]
     },
     "metadata": {},
     "output_type": "display_data"
    }
   ],
   "source": [
    "# Elastic net regression is one that I dont understand very well but I came up with this solution \n",
    "# after watching a couple of online tutorials. \n",
    "\n",
    "\n",
    "# blank list\n",
    "list = c()\n",
    "\n",
    "for (i in 0:10) {\n",
    "    usCrime_elastic <- cv.glmnet(x=as.matrix(scaled_usCrime_data[,-16]),y=as.matrix(scaled_usCrime_data$Crime),\n",
    "                                alpha=i/10, nfolds = 5, type.measure=\"mse\",\n",
    "                                family=\"gaussian\")\n",
    "\n",
    "    list = cbind(list, usCrime_elastic$glmnet.fit$dev.ratio[which(usCrime_elastic$glmnet.fit$lambda == usCrime_elastic$lambda.min)]) \n",
    "\n",
    "}\n",
    "\n",
    "# get best lambda (alpha in this equation)\n",
    "\n",
    "lambda = (which.max(list)-1)/10\n",
    "\n",
    "# get elastic net model\n",
    "usCrime_elastic = cv.glmnet(x=as.matrix(scaled_usCrime_data[,-16]), \n",
    "                             y=as.matrix(scaled_usCrime_data$Crime), alpha=0.05, \n",
    "                             nfolds = 5, type.measure=\"mse\", family=\"gaussian\")\n",
    "\n",
    "\n",
    "# linear regression\n",
    "usCrime_elastic_lm = lm(Crime ~M+So+Ed+Po1+Po2+LF+M.F+NW+U1+U2+Wealth+Ineq+Prob\n",
    "+Time, data = scaled_usCrime_data)\n",
    "\n",
    "summary(usCrime_elastic_lm)"
   ]
  },
  {
   "cell_type": "markdown",
   "metadata": {},
   "source": [
    "I am pretty certain this is not fully correct but is the best I could come up with for elastic net regression. \n",
    "R2 = 0.80 abd adjusted_R2 = 0.714. "
   ]
  }
 ],
 "metadata": {
  "kernelspec": {
   "display_name": "R",
   "language": "R",
   "name": "ir"
  },
  "language_info": {
   "codemirror_mode": "r",
   "file_extension": ".r",
   "mimetype": "text/x-r-source",
   "name": "R",
   "pygments_lexer": "r",
   "version": "4.2.1"
  },
  "orig_nbformat": 4
 },
 "nbformat": 4,
 "nbformat_minor": 2
}
